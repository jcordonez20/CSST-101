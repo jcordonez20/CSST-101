{
  "nbformat": 4,
  "nbformat_minor": 0,
  "metadata": {
    "colab": {
      "provenance": [],
      "toc_visible": true,
      "include_colab_link": true
    },
    "kernelspec": {
      "name": "python3",
      "display_name": "Python 3"
    },
    "language_info": {
      "name": "python"
    }
  },
  "cells": [
    {
      "cell_type": "markdown",
      "metadata": {
        "id": "view-in-github",
        "colab_type": "text"
      },
      "source": [
        "<a href=\"https://colab.research.google.com/github/jcordonez20/CSST-101/blob/main/3B_ORDONEZ_EXER4.ipynb\" target=\"_parent\"><img src=\"https://colab.research.google.com/assets/colab-badge.svg\" alt=\"Open In Colab\"/></a>"
      ]
    },
    {
      "cell_type": "markdown",
      "source": [
        "# **EXERCISE 1: Setting up the environment**"
      ],
      "metadata": {
        "id": "3naRq7cYfYFZ"
      }
    },
    {
      "cell_type": "markdown",
      "source": [
        "**1. Install the Required Library:**"
      ],
      "metadata": {
        "id": "1hWQrtLdf3Sb"
      }
    },
    {
      "cell_type": "code",
      "source": [
        "!pip install pgmpy"
      ],
      "metadata": {
        "id": "EdDHemJ3fY1R",
        "collapsed": true,
        "colab": {
          "base_uri": "https://localhost:8080/"
        },
        "outputId": "756b0a93-2729-4a15-bfc1-0910a995fb24"
      },
      "execution_count": 1,
      "outputs": [
        {
          "output_type": "stream",
          "name": "stdout",
          "text": [
            "Collecting pgmpy\n",
            "  Downloading pgmpy-0.1.26-py3-none-any.whl.metadata (9.1 kB)\n",
            "Requirement already satisfied: networkx in /usr/local/lib/python3.10/dist-packages (from pgmpy) (3.4)\n",
            "Requirement already satisfied: numpy in /usr/local/lib/python3.10/dist-packages (from pgmpy) (1.26.4)\n",
            "Requirement already satisfied: scipy in /usr/local/lib/python3.10/dist-packages (from pgmpy) (1.13.1)\n",
            "Requirement already satisfied: scikit-learn in /usr/local/lib/python3.10/dist-packages (from pgmpy) (1.5.2)\n",
            "Requirement already satisfied: pandas in /usr/local/lib/python3.10/dist-packages (from pgmpy) (2.2.2)\n",
            "Requirement already satisfied: pyparsing in /usr/local/lib/python3.10/dist-packages (from pgmpy) (3.1.4)\n",
            "Requirement already satisfied: torch in /usr/local/lib/python3.10/dist-packages (from pgmpy) (2.4.1+cu121)\n",
            "Requirement already satisfied: statsmodels in /usr/local/lib/python3.10/dist-packages (from pgmpy) (0.14.4)\n",
            "Requirement already satisfied: tqdm in /usr/local/lib/python3.10/dist-packages (from pgmpy) (4.66.5)\n",
            "Requirement already satisfied: joblib in /usr/local/lib/python3.10/dist-packages (from pgmpy) (1.4.2)\n",
            "Requirement already satisfied: opt-einsum in /usr/local/lib/python3.10/dist-packages (from pgmpy) (3.4.0)\n",
            "Requirement already satisfied: xgboost in /usr/local/lib/python3.10/dist-packages (from pgmpy) (2.1.1)\n",
            "Requirement already satisfied: google-generativeai in /usr/local/lib/python3.10/dist-packages (from pgmpy) (0.7.2)\n",
            "Requirement already satisfied: google-ai-generativelanguage==0.6.6 in /usr/local/lib/python3.10/dist-packages (from google-generativeai->pgmpy) (0.6.6)\n",
            "Requirement already satisfied: google-api-core in /usr/local/lib/python3.10/dist-packages (from google-generativeai->pgmpy) (2.19.2)\n",
            "Requirement already satisfied: google-api-python-client in /usr/local/lib/python3.10/dist-packages (from google-generativeai->pgmpy) (2.137.0)\n",
            "Requirement already satisfied: google-auth>=2.15.0 in /usr/local/lib/python3.10/dist-packages (from google-generativeai->pgmpy) (2.27.0)\n",
            "Requirement already satisfied: protobuf in /usr/local/lib/python3.10/dist-packages (from google-generativeai->pgmpy) (3.20.3)\n",
            "Requirement already satisfied: pydantic in /usr/local/lib/python3.10/dist-packages (from google-generativeai->pgmpy) (2.9.2)\n",
            "Requirement already satisfied: typing-extensions in /usr/local/lib/python3.10/dist-packages (from google-generativeai->pgmpy) (4.12.2)\n",
            "Requirement already satisfied: proto-plus<2.0.0dev,>=1.22.3 in /usr/local/lib/python3.10/dist-packages (from google-ai-generativelanguage==0.6.6->google-generativeai->pgmpy) (1.24.0)\n",
            "Requirement already satisfied: python-dateutil>=2.8.2 in /usr/local/lib/python3.10/dist-packages (from pandas->pgmpy) (2.8.2)\n",
            "Requirement already satisfied: pytz>=2020.1 in /usr/local/lib/python3.10/dist-packages (from pandas->pgmpy) (2024.2)\n",
            "Requirement already satisfied: tzdata>=2022.7 in /usr/local/lib/python3.10/dist-packages (from pandas->pgmpy) (2024.2)\n",
            "Requirement already satisfied: threadpoolctl>=3.1.0 in /usr/local/lib/python3.10/dist-packages (from scikit-learn->pgmpy) (3.5.0)\n",
            "Requirement already satisfied: patsy>=0.5.6 in /usr/local/lib/python3.10/dist-packages (from statsmodels->pgmpy) (0.5.6)\n",
            "Requirement already satisfied: packaging>=21.3 in /usr/local/lib/python3.10/dist-packages (from statsmodels->pgmpy) (24.1)\n",
            "Requirement already satisfied: filelock in /usr/local/lib/python3.10/dist-packages (from torch->pgmpy) (3.16.1)\n",
            "Requirement already satisfied: sympy in /usr/local/lib/python3.10/dist-packages (from torch->pgmpy) (1.13.3)\n",
            "Requirement already satisfied: jinja2 in /usr/local/lib/python3.10/dist-packages (from torch->pgmpy) (3.1.4)\n",
            "Requirement already satisfied: fsspec in /usr/local/lib/python3.10/dist-packages (from torch->pgmpy) (2024.6.1)\n",
            "Requirement already satisfied: nvidia-nccl-cu12 in /usr/local/lib/python3.10/dist-packages (from xgboost->pgmpy) (2.23.4)\n",
            "Requirement already satisfied: googleapis-common-protos<2.0.dev0,>=1.56.2 in /usr/local/lib/python3.10/dist-packages (from google-api-core->google-generativeai->pgmpy) (1.65.0)\n",
            "Requirement already satisfied: requests<3.0.0.dev0,>=2.18.0 in /usr/local/lib/python3.10/dist-packages (from google-api-core->google-generativeai->pgmpy) (2.32.3)\n",
            "Requirement already satisfied: cachetools<6.0,>=2.0.0 in /usr/local/lib/python3.10/dist-packages (from google-auth>=2.15.0->google-generativeai->pgmpy) (5.5.0)\n",
            "Requirement already satisfied: pyasn1-modules>=0.2.1 in /usr/local/lib/python3.10/dist-packages (from google-auth>=2.15.0->google-generativeai->pgmpy) (0.4.1)\n",
            "Requirement already satisfied: rsa<5,>=3.1.4 in /usr/local/lib/python3.10/dist-packages (from google-auth>=2.15.0->google-generativeai->pgmpy) (4.9)\n",
            "Requirement already satisfied: six in /usr/local/lib/python3.10/dist-packages (from patsy>=0.5.6->statsmodels->pgmpy) (1.16.0)\n",
            "Requirement already satisfied: httplib2<1.dev0,>=0.19.0 in /usr/local/lib/python3.10/dist-packages (from google-api-python-client->google-generativeai->pgmpy) (0.22.0)\n",
            "Requirement already satisfied: google-auth-httplib2<1.0.0,>=0.2.0 in /usr/local/lib/python3.10/dist-packages (from google-api-python-client->google-generativeai->pgmpy) (0.2.0)\n",
            "Requirement already satisfied: uritemplate<5,>=3.0.1 in /usr/local/lib/python3.10/dist-packages (from google-api-python-client->google-generativeai->pgmpy) (4.1.1)\n",
            "Requirement already satisfied: MarkupSafe>=2.0 in /usr/local/lib/python3.10/dist-packages (from jinja2->torch->pgmpy) (3.0.1)\n",
            "Requirement already satisfied: annotated-types>=0.6.0 in /usr/local/lib/python3.10/dist-packages (from pydantic->google-generativeai->pgmpy) (0.7.0)\n",
            "Requirement already satisfied: pydantic-core==2.23.4 in /usr/local/lib/python3.10/dist-packages (from pydantic->google-generativeai->pgmpy) (2.23.4)\n",
            "Requirement already satisfied: mpmath<1.4,>=1.1.0 in /usr/local/lib/python3.10/dist-packages (from sympy->torch->pgmpy) (1.3.0)\n",
            "Requirement already satisfied: grpcio<2.0dev,>=1.33.2 in /usr/local/lib/python3.10/dist-packages (from google-api-core[grpc]!=2.0.*,!=2.1.*,!=2.10.*,!=2.2.*,!=2.3.*,!=2.4.*,!=2.5.*,!=2.6.*,!=2.7.*,!=2.8.*,!=2.9.*,<3.0.0dev,>=1.34.1->google-ai-generativelanguage==0.6.6->google-generativeai->pgmpy) (1.64.1)\n",
            "Requirement already satisfied: grpcio-status<2.0.dev0,>=1.33.2 in /usr/local/lib/python3.10/dist-packages (from google-api-core[grpc]!=2.0.*,!=2.1.*,!=2.10.*,!=2.2.*,!=2.3.*,!=2.4.*,!=2.5.*,!=2.6.*,!=2.7.*,!=2.8.*,!=2.9.*,<3.0.0dev,>=1.34.1->google-ai-generativelanguage==0.6.6->google-generativeai->pgmpy) (1.48.2)\n",
            "Requirement already satisfied: pyasn1<0.7.0,>=0.4.6 in /usr/local/lib/python3.10/dist-packages (from pyasn1-modules>=0.2.1->google-auth>=2.15.0->google-generativeai->pgmpy) (0.6.1)\n",
            "Requirement already satisfied: charset-normalizer<4,>=2 in /usr/local/lib/python3.10/dist-packages (from requests<3.0.0.dev0,>=2.18.0->google-api-core->google-generativeai->pgmpy) (3.4.0)\n",
            "Requirement already satisfied: idna<4,>=2.5 in /usr/local/lib/python3.10/dist-packages (from requests<3.0.0.dev0,>=2.18.0->google-api-core->google-generativeai->pgmpy) (3.10)\n",
            "Requirement already satisfied: urllib3<3,>=1.21.1 in /usr/local/lib/python3.10/dist-packages (from requests<3.0.0.dev0,>=2.18.0->google-api-core->google-generativeai->pgmpy) (2.2.3)\n",
            "Requirement already satisfied: certifi>=2017.4.17 in /usr/local/lib/python3.10/dist-packages (from requests<3.0.0.dev0,>=2.18.0->google-api-core->google-generativeai->pgmpy) (2024.8.30)\n",
            "Downloading pgmpy-0.1.26-py3-none-any.whl (2.0 MB)\n",
            "\u001b[2K   \u001b[90m━━━━━━━━━━━━━━━━━━━━━━━━━━━━━━━━━━━━━━━━\u001b[0m \u001b[32m2.0/2.0 MB\u001b[0m \u001b[31m20.8 MB/s\u001b[0m eta \u001b[36m0:00:00\u001b[0m\n",
            "\u001b[?25hInstalling collected packages: pgmpy\n",
            "Successfully installed pgmpy-0.1.26\n"
          ]
        }
      ]
    },
    {
      "cell_type": "markdown",
      "source": [
        "**2. Import Libraries**"
      ],
      "metadata": {
        "id": "73qmcbs9gLQv"
      }
    },
    {
      "cell_type": "code",
      "execution_count": 2,
      "metadata": {
        "id": "Og0ADtoufPRR"
      },
      "outputs": [],
      "source": [
        "import numpy as np\n",
        "import pandas as pd\n",
        "from pgmpy.models import BayesianModel\n",
        "from pgmpy.inference import VariableElimination\n",
        "from pgmpy.inference import BeliefPropagation\n",
        "from pgmpy.factors.discrete import TabularCPD"
      ]
    },
    {
      "cell_type": "markdown",
      "source": [
        "# **EXECISE 2: Building a Simple Bayesian Network**"
      ],
      "metadata": {
        "id": "FQjsUZBsgaox"
      }
    },
    {
      "cell_type": "markdown",
      "source": [
        "**1. Define the Structure**"
      ],
      "metadata": {
        "id": "9GSgHvcWgw6_"
      }
    },
    {
      "cell_type": "code",
      "source": [
        "model = BayesianModel([('Weather', 'Traffuc'), ('Traffic', 'Late')])"
      ],
      "metadata": {
        "colab": {
          "base_uri": "https://localhost:8080/"
        },
        "id": "PFxR5adwgvY3",
        "outputId": "5457885f-819a-40e8-861a-379afc36c372"
      },
      "execution_count": 3,
      "outputs": [
        {
          "output_type": "stream",
          "name": "stderr",
          "text": [
            "WARNING:pgmpy:BayesianModel has been renamed to BayesianNetwork. Please use BayesianNetwork class, BayesianModel will be removed in future.\n"
          ]
        }
      ]
    },
    {
      "cell_type": "markdown",
      "source": [
        "**2. Define Conditional Probability Tables**"
      ],
      "metadata": {
        "id": "RQt8L7vNhOvo"
      }
    },
    {
      "cell_type": "code",
      "source": [
        "from pgmpy.models import BayesianModel\n",
        "from pgmpy.factors.discrete import TabularCPD\n",
        "\n",
        "model = BayesianModel([('Weather', 'Traffic'), ('Traffic', 'Late')])\n",
        "\n",
        "cpd_weather = TabularCPD(variable = 'Weather', variable_card = 2, values = [[0.8], [0.2]])\n",
        "\n",
        "cpd_traffic = TabularCPD(variable = 'Traffic', variable_card = 2,\n",
        "                         values = [[0.9, 0.5],[0.1, 0.5]],\n",
        "                         evidence = ['Weather'],\n",
        "                         evidence_card = [2])\n",
        "\n",
        "cpd_late = TabularCPD(variable = 'Late', variable_card = 2,\n",
        "                      values = [[0.95, 0.4], [0.05, 0.6]],\n",
        "                      evidence = ['Traffic'],\n",
        "                      evidence_card = [2])\n",
        "\n",
        "model.add_cpds(cpd_weather, cpd_traffic, cpd_late)\n",
        "\n",
        "assert model.check_model()"
      ],
      "metadata": {
        "colab": {
          "base_uri": "https://localhost:8080/"
        },
        "id": "LVBtWvbvhUfN",
        "outputId": "e5608e65-57ab-4894-d662-91188f66d85a"
      },
      "execution_count": 4,
      "outputs": [
        {
          "output_type": "stream",
          "name": "stderr",
          "text": [
            "WARNING:pgmpy:BayesianModel has been renamed to BayesianNetwork. Please use BayesianNetwork class, BayesianModel will be removed in future.\n"
          ]
        }
      ]
    },
    {
      "cell_type": "markdown",
      "source": [
        "# **EXERCISE 3: Querying the Bayesian Network**"
      ],
      "metadata": {
        "id": "29azve90sSSu"
      }
    },
    {
      "cell_type": "markdown",
      "source": [
        "**1. Perform Exact Inference:**"
      ],
      "metadata": {
        "id": "4KiOzdBtsdGo"
      }
    },
    {
      "cell_type": "code",
      "source": [
        "inference = VariableElimination(model)\n",
        "\n",
        "result = inference.query(variables = ['Late'], evidence = {'Weather': 1})\n",
        "print(result)"
      ],
      "metadata": {
        "colab": {
          "base_uri": "https://localhost:8080/"
        },
        "id": "bZUdj_KMhu3x",
        "outputId": "a9592383-96bc-46e9-d880-7ad32b20662b"
      },
      "execution_count": 5,
      "outputs": [
        {
          "output_type": "stream",
          "name": "stderr",
          "text": [
            "WARNING:pgmpy:BayesianModel has been renamed to BayesianNetwork. Please use BayesianNetwork class, BayesianModel will be removed in future.\n",
            "WARNING:pgmpy:BayesianModel has been renamed to BayesianNetwork. Please use BayesianNetwork class, BayesianModel will be removed in future.\n"
          ]
        },
        {
          "output_type": "stream",
          "name": "stdout",
          "text": [
            "+---------+-------------+\n",
            "| Late    |   phi(Late) |\n",
            "+=========+=============+\n",
            "| Late(0) |      0.6750 |\n",
            "+---------+-------------+\n",
            "| Late(1) |      0.3250 |\n",
            "+---------+-------------+\n"
          ]
        }
      ]
    },
    {
      "cell_type": "markdown",
      "source": [
        "# **EXERCISE 4: Parameter Learning**"
      ],
      "metadata": {
        "id": "vfg1mPzOtYvM"
      }
    },
    {
      "cell_type": "markdown",
      "source": [
        "**1. Simulate a Dataset**"
      ],
      "metadata": {
        "id": "MEtla2mXtcQ4"
      }
    },
    {
      "cell_type": "code",
      "source": [
        "data = pd.DataFrame({\n",
        "    'Weather' : np.random.choice([0,1], size = 1000, p = [0.8, 0.2]),\n",
        "    'Traffic' : np.nan,\n",
        "    'Late' : np.nan\n",
        "})\n",
        "\n",
        "\n",
        "data.loc[data['Weather'] == 0, 'Traffic'] = np.random.choice(\n",
        "    [0,1],\n",
        "    size = data[data['Weather'] == 0].shape[0],\n",
        "    p = [0.9, 0.1]\n",
        ")\n",
        "\n",
        "data.loc[data['Weather'] == 1, 'Traffic'] = np.random.choice(\n",
        "    [0,1],\n",
        "    size = data[data['Weather'] == 1].shape[0],\n",
        "    p = [0.5, 0.5]\n",
        ")\n",
        "\n",
        "\n",
        "data['Late'] = np.where(\n",
        "    data['Traffic'] == 0,\n",
        "    np.random.choice([0,1], size = data.shape[0], p = [0.95, 0.05]),\n",
        "    np.random.choice([0,1], size = data.shape[0], p = [0.4, 0.6])\n",
        ")"
      ],
      "metadata": {
        "id": "VuvPqBMBtt71"
      },
      "execution_count": 6,
      "outputs": []
    },
    {
      "cell_type": "markdown",
      "source": [
        "**2. Estimate the Parameters:**"
      ],
      "metadata": {
        "id": "HjpprkM1wG68"
      }
    },
    {
      "cell_type": "code",
      "source": [
        "from pgmpy.estimators import MaximumLikelihoodEstimator\n",
        "\n",
        "model = BayesianModel([('Weather', 'Traffic'),('Traffic', 'Late')])\n",
        "\n",
        "model.fit(data, estimator = MaximumLikelihoodEstimator)\n",
        "\n",
        "for cpd in model.get_cpds():\n",
        "  print(cpd)"
      ],
      "metadata": {
        "colab": {
          "base_uri": "https://localhost:8080/"
        },
        "collapsed": true,
        "id": "n43TKVB3tx57",
        "outputId": "5736776c-beba-4628-d75c-e99e8f3ae4a7"
      },
      "execution_count": 7,
      "outputs": [
        {
          "output_type": "stream",
          "name": "stderr",
          "text": [
            "WARNING:pgmpy:BayesianModel has been renamed to BayesianNetwork. Please use BayesianNetwork class, BayesianModel will be removed in future.\n"
          ]
        },
        {
          "output_type": "stream",
          "name": "stdout",
          "text": [
            "+------------+-------+\n",
            "| Weather(0) | 0.796 |\n",
            "+------------+-------+\n",
            "| Weather(1) | 0.204 |\n",
            "+------------+-------+\n",
            "+--------------+---------------------+---------------------+\n",
            "| Weather      | Weather(0)          | Weather(1)          |\n",
            "+--------------+---------------------+---------------------+\n",
            "| Traffic(0.0) | 0.9221105527638191  | 0.5441176470588235  |\n",
            "+--------------+---------------------+---------------------+\n",
            "| Traffic(1.0) | 0.07788944723618091 | 0.45588235294117646 |\n",
            "+--------------+---------------------+---------------------+\n",
            "+---------+---------------------+---------------------+\n",
            "| Traffic | Traffic(0.0)        | Traffic(1.0)        |\n",
            "+---------+---------------------+---------------------+\n",
            "| Late(0) | 0.9443786982248521  | 0.34838709677419355 |\n",
            "+---------+---------------------+---------------------+\n",
            "| Late(1) | 0.05562130177514793 | 0.6516129032258065  |\n",
            "+---------+---------------------+---------------------+\n"
          ]
        }
      ]
    },
    {
      "cell_type": "markdown",
      "source": [
        "# **EXERCISE 5: Visualizing the Bayesian Network**"
      ],
      "metadata": {
        "id": "jBENaP3Kwtnu"
      }
    },
    {
      "cell_type": "markdown",
      "source": [
        "**1. Visualize the Network Structure:**"
      ],
      "metadata": {
        "id": "XNAHI-axw17y"
      }
    },
    {
      "cell_type": "code",
      "source": [
        "import matplotlib.pyplot as plt\n",
        "import networkx as nx\n",
        "from pgmpy.models import BayesianModel\n",
        "from pgmpy.factors.discrete import TabularCPD\n",
        "\n",
        "nx_graph = nx.DiGraph(model.edges())\n",
        "\n",
        "plt.figure(figsize = (8,6))\n",
        "pos = nx.spring_layout(nx_graph)\n",
        "nx.draw(\n",
        "    nx_graph, pos,\n",
        "    with_labels = True, node_color = 'lightblue',\n",
        "    font_weight = 'bold', arrows = True\n",
        ")\n",
        "plt.title('Bayesian Network Structure')\n",
        "plt.show()"
      ],
      "metadata": {
        "colab": {
          "base_uri": "https://localhost:8080/",
          "height": 659
        },
        "id": "kyi2BQKgw7CW",
        "outputId": "a600f407-397f-454e-ada7-05b488a7dcbc"
      },
      "execution_count": 8,
      "outputs": [
        {
          "output_type": "display_data",
          "data": {
            "text/plain": [
              "<Figure size 800x600 with 1 Axes>"
            ],
            "image/png": "[encoded data removed]"
          },
          "metadata": {}
        }
      ]
    }
  ]
}