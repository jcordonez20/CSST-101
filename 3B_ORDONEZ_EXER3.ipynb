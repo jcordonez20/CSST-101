{
  "nbformat": 4,
  "nbformat_minor": 0,
  "metadata": {
    "colab": {
      "provenance": [],
      "authorship_tag": "ABX9TyOLmuhuJ5WBT4E78E3PPuCR",
      "include_colab_link": true
    },
    "kernelspec": {
      "name": "python3",
      "display_name": "Python 3"
    },
    "language_info": {
      "name": "python"
    }
  },
  "cells": [
    {
      "cell_type": "markdown",
      "metadata": {
        "id": "view-in-github",
        "colab_type": "text"
      },
      "source": [
        "<a href=\"https://colab.research.google.com/github/jcordonez20/CSST-101/blob/main/3B_ORDONEZ_EXER3.ipynb\" target=\"_parent\"><img src=\"https://colab.research.google.com/assets/colab-badge.svg\" alt=\"Open In Colab\"/></a>"
      ]
    },
    {
      "cell_type": "markdown",
      "source": [
        "Part 1: Defining the Problem and System Design"
      ],
      "metadata": {
        "id": "4Gq7ghZPC-sT"
      }
    },
    {
      "cell_type": "markdown",
      "source": [
        "Disease: Heart Disease\n",
        "Contributing Factor: Atherosclerosis, High Blood Pressure, High Cholesterol Lifestyle"
      ],
      "metadata": {
        "id": "_a5p_kINESqb"
      }
    },
    {
      "cell_type": "code",
      "source": [
        "import numpy as np\n",
        "\n",
        "P_disease = 0.02\n",
        "P_have_disease = 0.95\n",
        "P_nodisease = 0.05\n",
        "\n",
        "P_positive = (P_have_disease * P_disease) + (P_nodisease * (1 - P_disease))\n",
        "\n",
        "P_positive_disease = P_have_disease * P_disease / P_positive\n",
        "\n",
        "print(P_positive_disease)"
      ],
      "metadata": {
        "colab": {
          "base_uri": "https://localhost:8080/"
        },
        "id": "lfzJW7efMiEI",
        "outputId": "1c9c6b73-a0f1-448f-bb34-7cd75f8ae828"
      },
      "execution_count": null,
      "outputs": [
        {
          "output_type": "stream",
          "name": "stdout",
          "text": [
            "0.2794117647058823\n"
          ]
        }
      ]
    },
    {
      "cell_type": "code",
      "execution_count": null,
      "metadata": {
        "id": "r8cQ-XnpC6pQ",
        "colab": {
          "base_uri": "https://localhost:8080/"
        },
        "outputId": "60f82f4f-fe73-4f70-f6c8-fbb4a2d22251"
      },
      "outputs": [
        {
          "output_type": "stream",
          "name": "stdout",
          "text": [
            "85.0\n"
          ]
        }
      ],
      "source": [
        "P_success = 0.7\n",
        "benefit = 100\n",
        "P_fail = 0.3\n",
        "loss = 50\n",
        "\n",
        "P_success_benefit = P_success * benefit + P_fail * loss\n",
        "\n",
        "print(P_success_benefit)"
      ]
    },
    {
      "cell_type": "markdown",
      "source": [],
      "metadata": {
        "id": "fW23a_ZsjxhI"
      }
    },
    {
      "cell_type": "code",
      "source": [
        "import matplotlib.pyplot as plt\n",
        "from scipy.stats import binom\n",
        "\n",
        "n_flips = 5\n",
        "p_heads = 0.5\n",
        "\n",
        "x = np.arange(0, n_flips + 1)\n",
        "\n",
        "pmf = binom.pmf(x, n_flips, p_heads)\n",
        "\n",
        "plt.bar(x, pmf, color = 'crimson', alpha = 0.7)\n",
        "plt.xticks(x)\n",
        "plt.xlabel('Number of Heads')\n",
        "plt.ylabel('Probability Mass Function')\n",
        "plt.title('Binomial Distribution')\n",
        "plt.grid(axis='y')\n",
        "plt.show()"
      ],
      "metadata": {
        "id": "8_o01mxqj0hE",
        "colab": {
          "base_uri": "https://localhost:8080/",
          "height": 472
        },
        "outputId": "60ff7c00-f6c5-4209-c779-2b0b3173b51f"
      },
      "execution_count": 9,
      "outputs": [
        {
          "output_type": "display_data",
          "data": {
            "text/plain": [
              "<Figure size 640x480 with 1 Axes>"
            ],
            "image/png": "[encoded data removed]"
          },
          "metadata": {}
        }
      ]
    },
    {
      "cell_type": "markdown",
      "source": [
        "Conclusion:\n",
        "\n",
        "Probability theory helps estimate the likelihood of a disease given certain symptoms or test results, allowing doctors to prioritize the most probable diagnoses. By quantifying uncertainty, it guides clinicians in choosing the most appropriate tests and treatments, maximizing the chances of a positive outcome. Understanding probability also helps doctors communicate risks and benefits effectively to patients, enabling shared decision-making."
      ],
      "metadata": {
        "id": "iJxQqlVHC8nj"
      }
    }
  ]
}